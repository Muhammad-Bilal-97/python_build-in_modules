{
 "cells": [
  {
   "cell_type": "markdown",
   "id": "e4916661",
   "metadata": {},
   "source": [
    "# LXML Module"
   ]
  },
  {
   "cell_type": "code",
   "execution_count": 1,
   "id": "4eb09723",
   "metadata": {},
   "outputs": [],
   "source": [
    "from lxml import etree"
   ]
  },
  {
   "cell_type": "code",
   "execution_count": 8,
   "id": "4d33a13f",
   "metadata": {},
   "outputs": [],
   "source": [
    "def parseBooksXML(xmlFile):\n",
    "    \n",
    "    with open(xmlFile) as fobj:\n",
    "        xml = fobj.read()\n",
    "    root = etree.fromstring(xml)\n",
    "    book_dict = {}\n",
    "    books = []\n",
    "    for book in root.getchildren():\n",
    "        for elem in book.getchildren():\n",
    "            if elem.text:\n",
    "                text = elem.text\n",
    "            else:\n",
    "                text = ' '\n",
    "            if elem.tag == 'author':\n",
    "                last_name, first_name = text.split(',')\n",
    "                print(elem.tag + \": \" + first_name , last_name)\n",
    "            else:\n",
    "                print(elem.tag + \": \" + text)\n",
    "            book_dict[elem.tag] = text\n",
    "        if book.tag == 'book':\n",
    "            books.append(book_dict)\n",
    "            book_dict = {}\n",
    "    return books"
   ]
  },
  {
   "cell_type": "code",
   "execution_count": 9,
   "id": "b7513b33",
   "metadata": {},
   "outputs": [
    {
     "name": "stdout",
     "output_type": "stream",
     "text": [
      "author:  Matthew Gambardella\n",
      "title: XML Developer's Guide\n",
      "genre: Computer\n",
      "price: 44.95\n",
      "publish_date: 2000-10-01\n",
      "description: An in-depth look at creating applications \n",
      "      with XML.\n",
      "author:  Kim Ralls\n",
      "title: Midnight Rain\n",
      "genre: Fantasy\n",
      "price: 5.95\n",
      "publish_date: 2000-12-16\n",
      "description: A former architect battles corporate zombies, \n",
      "      an evil sorceress, and her own childhood to become queen \n",
      "      of the world.\n",
      "author:  Eva Corets\n",
      "title: Maeve Ascendant\n",
      "genre: Fantasy\n",
      "price: 5.95\n",
      "publish_date: 2000-11-17\n",
      "description: After the collapse of a nanotechnology \n",
      "      society in England, the young survivors lay the \n",
      "      foundation for a new society.\n",
      "author:  Eva Corets\n",
      "title: Oberon's Legacy\n",
      "genre: Fantasy\n",
      "price: 5.95\n",
      "publish_date: 2001-03-10\n",
      "description: In post-apocalypse England, the mysterious \n",
      "      agent known only as Oberon helps to create a new life \n",
      "      for the inhabitants of London. Sequel to Maeve \n",
      "      Ascendant.\n",
      "author:  Eva Corets\n",
      "title: The Sundered Grail\n",
      "genre: Fantasy\n",
      "price: 5.95\n",
      "publish_date: 2001-09-10\n",
      "description: The two daughters of Maeve, half-sisters, \n",
      "      battle one another for control of England. Sequel to \n",
      "      Oberon's Legacy.\n",
      "author:  Cynthia Randall\n",
      "title: Lover Birds\n",
      "genre: Romance\n",
      "price: 4.95\n",
      "publish_date: 2000-09-02\n",
      "description: When Carla meets Paul at an ornithology \n",
      "      conference, tempers fly as feathers get ruffled.\n",
      "author:  Paula Thurman\n",
      "title: Splish Splash\n",
      "genre: Romance\n",
      "price: 4.95\n",
      "publish_date: 2000-11-02\n",
      "description: A deep sea diver finds true love twenty \n",
      "      thousand leagues beneath the sea.\n",
      "author:  Stefan Knorr\n",
      "title: Creepy Crawlies\n",
      "genre: Horror\n",
      "price: 4.95\n",
      "publish_date: 2000-12-06\n",
      "description: An anthology of horror stories about roaches,\n",
      "      centipedes, scorpions  and other insects.\n",
      "author:  Peter Kress\n",
      "title: Paradox Lost\n",
      "genre: Science Fiction\n",
      "price: 6.95\n",
      "publish_date: 2000-11-02\n",
      "description: After an inadvertant trip through a Heisenberg\n",
      "      Uncertainty Device, James Salway discovers the problems \n",
      "      of being quantum.\n",
      "author:  Tim O'Brien\n",
      "title: Microsoft .NET: The Programming Bible\n",
      "genre: Computer\n",
      "price: 36.95\n",
      "publish_date: 2000-12-09\n",
      "description: Microsoft's .NET initiative is explored in \n",
      "      detail in this deep programmer's reference.\n",
      "author:  Tim O'Brien\n",
      "title: MSXML3: A Comprehensive Guide\n",
      "genre: Computer\n",
      "price: 36.95\n",
      "publish_date: 2000-12-01\n",
      "description: The Microsoft MSXML3 parser is covered in \n",
      "      detail, with attention to XML DOM interfaces, XSLT processing, \n",
      "      SAX and more.\n",
      "author:  Mike Galos\n",
      "title: Visual Studio 7: A Comprehensive Guide\n",
      "genre: Computer\n",
      "price: 49.95\n",
      "publish_date: 2001-04-16\n",
      "description: Microsoft Visual Studio 7 is explored in depth,\n",
      "      looking at how Visual Basic, Visual C++, C#, and ASP+ are \n",
      "      integrated into a comprehensive development \n",
      "      environment.\n"
     ]
    }
   ],
   "source": [
    "my_books = parseBooksXML(\"books.xml\")"
   ]
  },
  {
   "cell_type": "code",
   "execution_count": null,
   "id": "5e02140c",
   "metadata": {},
   "outputs": [],
   "source": []
  },
  {
   "cell_type": "code",
   "execution_count": null,
   "id": "004293f2",
   "metadata": {},
   "outputs": [],
   "source": []
  },
  {
   "cell_type": "code",
   "execution_count": null,
   "id": "8a13f265",
   "metadata": {},
   "outputs": [],
   "source": []
  },
  {
   "cell_type": "code",
   "execution_count": null,
   "id": "ad719c1f",
   "metadata": {},
   "outputs": [],
   "source": []
  },
  {
   "cell_type": "code",
   "execution_count": null,
   "id": "ba3ed97e",
   "metadata": {},
   "outputs": [],
   "source": []
  }
 ],
 "metadata": {
  "kernelspec": {
   "display_name": "Python 3 (ipykernel)",
   "language": "python",
   "name": "python3"
  },
  "language_info": {
   "codemirror_mode": {
    "name": "ipython",
    "version": 3
   },
   "file_extension": ".py",
   "mimetype": "text/x-python",
   "name": "python",
   "nbconvert_exporter": "python",
   "pygments_lexer": "ipython3",
   "version": "3.9.7"
  }
 },
 "nbformat": 4,
 "nbformat_minor": 5
}
